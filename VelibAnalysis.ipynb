{
 "cells": [
  {
   "cell_type": "markdown",
   "metadata": {},
   "source": [
    "<p align=\"center\">\n",
    "  <b>VELIB Data Science Analysis</b><br>\n",
    "  Name: Victor Hugo Ribeiro Leite Da Silva<br>\n",
    "  E-mail: victorhugo.ribeiro@telecom-paris.fr<br>\n",
    "  Phone: +33 07 49 85 76 43\n",
    "</p>\n",
    "\n",
    "### Summary of my approach\n",
    "\n",
    "In this analysis, I explore the VELIB dataset through data cleaning, feature engineering, and modeling stages.  \n",
    "The goal is to uncover insights about bike usage patterns and develop predictive models that optimize resource allocation.\n",
    "\n",
    "- Data Analysis  \n",
    "- Data Cleaning  \n",
    "- Feature Engineering  \n",
    "- Modeling\n"
   ]
  },
  {
   "cell_type": "markdown",
   "metadata": {},
   "source": [
    "## Importing Libraries and Datasets\n",
    "\n",
    "### Libraries"
   ]
  },
  {
   "cell_type": "code",
   "execution_count": 20,
   "metadata": {},
   "outputs": [],
   "source": [
    "import numpy as np\n",
    "import matplotlib.pyplot as plt\n",
    "import pandas as pd\n",
    "import seaborn as sns\n",
    "\n",
    "\n",
    "pd.set_option('display.max_columns', None) #Show all columns"
   ]
  },
  {
   "cell_type": "markdown",
   "metadata": {},
   "source": [
    "### Datasets"
   ]
  },
  {
   "cell_type": "code",
   "execution_count": 23,
   "metadata": {},
   "outputs": [
    {
     "data": {
      "text/html": [
       "<div>\n",
       "<style scoped>\n",
       "    .dataframe tbody tr th:only-of-type {\n",
       "        vertical-align: middle;\n",
       "    }\n",
       "\n",
       "    .dataframe tbody tr th {\n",
       "        vertical-align: top;\n",
       "    }\n",
       "\n",
       "    .dataframe thead th {\n",
       "        text-align: right;\n",
       "    }\n",
       "</style>\n",
       "<table border=\"1\" class=\"dataframe\">\n",
       "  <thead>\n",
       "    <tr style=\"text-align: right;\">\n",
       "      <th></th>\n",
       "      <th>Identifiant station</th>\n",
       "      <th>Nom station</th>\n",
       "      <th>Station en fonctionnement</th>\n",
       "      <th>Capacité de la station</th>\n",
       "      <th>Nombre bornettes libres</th>\n",
       "      <th>Nombre total vélos disponibles</th>\n",
       "      <th>Vélos mécaniques disponibles</th>\n",
       "      <th>Vélos électriques disponibles</th>\n",
       "      <th>Borne de paiement disponible</th>\n",
       "      <th>Retour vélib possible</th>\n",
       "      <th>Actualisation de la donnée</th>\n",
       "      <th>Coordonnées géographiques</th>\n",
       "      <th>Nom communes équipées</th>\n",
       "      <th>Code INSEE communes équipées</th>\n",
       "      <th>station_opening_hours</th>\n",
       "    </tr>\n",
       "  </thead>\n",
       "  <tbody>\n",
       "    <tr>\n",
       "      <th>0</th>\n",
       "      <td>16107</td>\n",
       "      <td>Benjamin Godard - Victor Hugo</td>\n",
       "      <td>OUI</td>\n",
       "      <td>35</td>\n",
       "      <td>29</td>\n",
       "      <td>5</td>\n",
       "      <td>1</td>\n",
       "      <td>4</td>\n",
       "      <td>OUI</td>\n",
       "      <td>OUI</td>\n",
       "      <td>2025-10-18T18:37:02+02:00</td>\n",
       "      <td>48.865983, 2.275725</td>\n",
       "      <td>Paris</td>\n",
       "      <td>75056</td>\n",
       "      <td>NaN</td>\n",
       "    </tr>\n",
       "    <tr>\n",
       "      <th>1</th>\n",
       "      <td>32304</td>\n",
       "      <td>Charcot - Benfleet</td>\n",
       "      <td>OUI</td>\n",
       "      <td>28</td>\n",
       "      <td>25</td>\n",
       "      <td>1</td>\n",
       "      <td>0</td>\n",
       "      <td>1</td>\n",
       "      <td>OUI</td>\n",
       "      <td>OUI</td>\n",
       "      <td>2025-10-18T18:38:01+02:00</td>\n",
       "      <td>48.878370277021, 2.440523876268</td>\n",
       "      <td>Romainville</td>\n",
       "      <td>93063</td>\n",
       "      <td>NaN</td>\n",
       "    </tr>\n",
       "    <tr>\n",
       "      <th>2</th>\n",
       "      <td>40001</td>\n",
       "      <td>Hôpital Mondor</td>\n",
       "      <td>OUI</td>\n",
       "      <td>28</td>\n",
       "      <td>9</td>\n",
       "      <td>18</td>\n",
       "      <td>10</td>\n",
       "      <td>8</td>\n",
       "      <td>OUI</td>\n",
       "      <td>OUI</td>\n",
       "      <td>2025-10-18T18:40:10+02:00</td>\n",
       "      <td>48.798922410229, 2.4537451531298</td>\n",
       "      <td>Créteil</td>\n",
       "      <td>94028</td>\n",
       "      <td>NaN</td>\n",
       "    </tr>\n",
       "    <tr>\n",
       "      <th>3</th>\n",
       "      <td>14111</td>\n",
       "      <td>Cassini - Denfert-Rochereau</td>\n",
       "      <td>OUI</td>\n",
       "      <td>25</td>\n",
       "      <td>21</td>\n",
       "      <td>2</td>\n",
       "      <td>1</td>\n",
       "      <td>1</td>\n",
       "      <td>OUI</td>\n",
       "      <td>OUI</td>\n",
       "      <td>2025-10-18T18:39:09+02:00</td>\n",
       "      <td>48.837525839067, 2.3360354080796</td>\n",
       "      <td>Paris</td>\n",
       "      <td>75056</td>\n",
       "      <td>NaN</td>\n",
       "    </tr>\n",
       "    <tr>\n",
       "      <th>4</th>\n",
       "      <td>9020</td>\n",
       "      <td>Toudouze - Clauzel</td>\n",
       "      <td>OUI</td>\n",
       "      <td>21</td>\n",
       "      <td>18</td>\n",
       "      <td>3</td>\n",
       "      <td>1</td>\n",
       "      <td>2</td>\n",
       "      <td>OUI</td>\n",
       "      <td>OUI</td>\n",
       "      <td>2025-10-18T18:36:44+02:00</td>\n",
       "      <td>48.87929591733507, 2.3373600840568547</td>\n",
       "      <td>Paris</td>\n",
       "      <td>75056</td>\n",
       "      <td>NaN</td>\n",
       "    </tr>\n",
       "  </tbody>\n",
       "</table>\n",
       "</div>"
      ],
      "text/plain": [
       "   Identifiant station                    Nom station  \\\n",
       "0                16107  Benjamin Godard - Victor Hugo   \n",
       "1                32304             Charcot - Benfleet   \n",
       "2                40001                 Hôpital Mondor   \n",
       "3                14111    Cassini - Denfert-Rochereau   \n",
       "4                 9020             Toudouze - Clauzel   \n",
       "\n",
       "  Station en fonctionnement  Capacité de la station  Nombre bornettes libres  \\\n",
       "0                       OUI                      35                       29   \n",
       "1                       OUI                      28                       25   \n",
       "2                       OUI                      28                        9   \n",
       "3                       OUI                      25                       21   \n",
       "4                       OUI                      21                       18   \n",
       "\n",
       "   Nombre total vélos disponibles  Vélos mécaniques disponibles  \\\n",
       "0                               5                             1   \n",
       "1                               1                             0   \n",
       "2                              18                            10   \n",
       "3                               2                             1   \n",
       "4                               3                             1   \n",
       "\n",
       "   Vélos électriques disponibles Borne de paiement disponible  \\\n",
       "0                              4                          OUI   \n",
       "1                              1                          OUI   \n",
       "2                              8                          OUI   \n",
       "3                              1                          OUI   \n",
       "4                              2                          OUI   \n",
       "\n",
       "  Retour vélib possible Actualisation de la donnée  \\\n",
       "0                   OUI  2025-10-18T18:37:02+02:00   \n",
       "1                   OUI  2025-10-18T18:38:01+02:00   \n",
       "2                   OUI  2025-10-18T18:40:10+02:00   \n",
       "3                   OUI  2025-10-18T18:39:09+02:00   \n",
       "4                   OUI  2025-10-18T18:36:44+02:00   \n",
       "\n",
       "               Coordonnées géographiques Nom communes équipées  \\\n",
       "0                    48.865983, 2.275725                 Paris   \n",
       "1        48.878370277021, 2.440523876268           Romainville   \n",
       "2       48.798922410229, 2.4537451531298               Créteil   \n",
       "3       48.837525839067, 2.3360354080796                 Paris   \n",
       "4  48.87929591733507, 2.3373600840568547                 Paris   \n",
       "\n",
       "   Code INSEE communes équipées  station_opening_hours  \n",
       "0                         75056                    NaN  \n",
       "1                         93063                    NaN  \n",
       "2                         94028                    NaN  \n",
       "3                         75056                    NaN  \n",
       "4                         75056                    NaN  "
      ]
     },
     "execution_count": 23,
     "metadata": {},
     "output_type": "execute_result"
    }
   ],
   "source": [
    "df = pd.read_csv( 'velib-disponibilite-en-temps-reel.csv', sep = ';')\n",
    "df.head()"
   ]
  },
  {
   "cell_type": "markdown",
   "metadata": {},
   "source": [
    "### Data Analysis\n",
    "\n",
    "Getting the main info to train the data"
   ]
  },
  {
   "cell_type": "code",
   "execution_count": 24,
   "metadata": {},
   "outputs": [
    {
     "name": "stdout",
     "output_type": "stream",
     "text": [
      "<class 'pandas.core.frame.DataFrame'>\n",
      "RangeIndex: 1495 entries, 0 to 1494\n",
      "Data columns (total 15 columns):\n",
      " #   Column                          Non-Null Count  Dtype  \n",
      "---  ------                          --------------  -----  \n",
      " 0   Identifiant station             1495 non-null   int64  \n",
      " 1   Nom station                     1495 non-null   object \n",
      " 2   Station en fonctionnement       1495 non-null   object \n",
      " 3   Capacité de la station          1495 non-null   int64  \n",
      " 4   Nombre bornettes libres         1495 non-null   int64  \n",
      " 5   Nombre total vélos disponibles  1495 non-null   int64  \n",
      " 6   Vélos mécaniques disponibles    1495 non-null   int64  \n",
      " 7   Vélos électriques disponibles   1495 non-null   int64  \n",
      " 8   Borne de paiement disponible    1495 non-null   object \n",
      " 9   Retour vélib possible           1495 non-null   object \n",
      " 10  Actualisation de la donnée      1495 non-null   object \n",
      " 11  Coordonnées géographiques       1495 non-null   object \n",
      " 12  Nom communes équipées           1495 non-null   object \n",
      " 13  Code INSEE communes équipées    1495 non-null   int64  \n",
      " 14  station_opening_hours           0 non-null      float64\n",
      "dtypes: float64(1), int64(7), object(7)\n",
      "memory usage: 175.3+ KB\n"
     ]
    }
   ],
   "source": [
    "df.info()"
   ]
  },
  {
   "cell_type": "markdown",
   "metadata": {},
   "source": [
    "Checking number of NA on the dataset"
   ]
  },
  {
   "cell_type": "code",
   "execution_count": 14,
   "metadata": {},
   "outputs": [
    {
     "data": {
      "text/plain": [
       "Identifiant station                  0\n",
       "Nom station                          0\n",
       "Station en fonctionnement            0\n",
       "Capacité de la station               0\n",
       "Nombre bornettes libres              0\n",
       "Nombre total vélos disponibles       0\n",
       "Vélos mécaniques disponibles         0\n",
       "Vélos électriques disponibles        0\n",
       "Borne de paiement disponible         0\n",
       "Retour vélib possible                0\n",
       "Actualisation de la donnée           0\n",
       "Coordonnées géographiques            0\n",
       "Nom communes équipées                0\n",
       "Code INSEE communes équipées         0\n",
       "station_opening_hours             1495\n",
       "dtype: int64"
      ]
     },
     "execution_count": 14,
     "metadata": {},
     "output_type": "execute_result"
    }
   ],
   "source": [
    "df.isna().sum()"
   ]
  },
  {
   "cell_type": "markdown",
   "metadata": {},
   "source": [
    "Since the column 'station_opening_hours' has all values NA, i will consider that ALL stations are always open. Thus, i will drop this column"
   ]
  },
  {
   "cell_type": "code",
   "execution_count": 26,
   "metadata": {},
   "outputs": [],
   "source": [
    "df = df.drop(['station_opening_hours'], axis = 1) "
   ]
  },
  {
   "cell_type": "markdown",
   "metadata": {},
   "source": [
    "For every station , what is the distribution of bikes ? We usually have more eletric or mechanic ?"
   ]
  },
  {
   "cell_type": "code",
   "execution_count": null,
   "metadata": {},
   "outputs": [],
   "source": []
  }
 ],
 "metadata": {
  "kernelspec": {
   "display_name": "Python 3",
   "language": "python",
   "name": "python3"
  },
  "language_info": {
   "codemirror_mode": {
    "name": "ipython",
    "version": 3
   },
   "file_extension": ".py",
   "mimetype": "text/x-python",
   "name": "python",
   "nbconvert_exporter": "python",
   "pygments_lexer": "ipython3",
   "version": "3.12.2"
  }
 },
 "nbformat": 4,
 "nbformat_minor": 2
}
